{
 "cells": [
  {
   "cell_type": "markdown",
   "id": "4c0df7c1-4afa-485c-9eef-4cbb13ef7340",
   "metadata": {},
   "source": [
    "#### Q1. What is an API? Give an example, where an API is used in real life."
   ]
  },
  {
   "cell_type": "code",
   "execution_count": 1,
   "id": "eb5b8f89-abd2-44ee-83ca-cf7b0b73a2bd",
   "metadata": {},
   "outputs": [],
   "source": [
    "# APIs are used in web applications to connect user-facing front ends with critical back-end functionality and data."
   ]
  },
  {
   "cell_type": "code",
   "execution_count": 2,
   "id": "f70ae31f-73be-496f-b259-78717ac2a93e",
   "metadata": {},
   "outputs": [],
   "source": [
    "# example :-  social media bots\n",
    "# In everyday life, APIs power various experiences, from social media interactions to real-time weather data access."
   ]
  },
  {
   "cell_type": "code",
   "execution_count": null,
   "id": "b399b77b-06c4-46dc-8ea4-9fe824c01f08",
   "metadata": {},
   "outputs": [],
   "source": []
  },
  {
   "cell_type": "markdown",
   "id": "5174d640-b46e-4790-992e-a4f45367b01d",
   "metadata": {},
   "source": [
    "#### Q2. Give advantages and disadvantages of using API. "
   ]
  },
  {
   "cell_type": "code",
   "execution_count": 5,
   "id": "0822b833-fad7-4948-89b9-cd0a89282549",
   "metadata": {},
   "outputs": [],
   "source": [
    "# Advantages of using API :-\n",
    "\n",
    "# - Increased Interoperability\n",
    "# - Improved Efficiency\n",
    "# - Better User Experience\n",
    "# - Increased Flexibility"
   ]
  },
  {
   "cell_type": "code",
   "execution_count": 6,
   "id": "720739e2-8545-491f-bd77-d7b27bd192a7",
   "metadata": {},
   "outputs": [],
   "source": [
    "# Disadvantages of using API :-\n",
    "\n",
    "# - Security Concerns\n",
    "# - Complexity\n",
    "# - Compatibility Issues\n",
    "# - Dependency on Third-Party Developers"
   ]
  },
  {
   "cell_type": "code",
   "execution_count": null,
   "id": "dc87ad7a-b1f2-48eb-b94c-62576f521a24",
   "metadata": {},
   "outputs": [],
   "source": []
  },
  {
   "cell_type": "markdown",
   "id": "0d7d00c6-2fe8-4bc0-9412-e01b3ff7a705",
   "metadata": {},
   "source": [
    "#### Q3. What is a Web API? Differentiate between API and Web API."
   ]
  },
  {
   "cell_type": "code",
   "execution_count": 7,
   "id": "a943d715-39c3-42b9-84cc-2d240816d23b",
   "metadata": {},
   "outputs": [],
   "source": [
    "#  A Web API is an application programming interface for the Web. A Browser API can extend the functionality of a web browser."
   ]
  },
  {
   "cell_type": "code",
   "execution_count": 8,
   "id": "24ee666c-39ff-4fcd-a6a7-ab4b108134ae",
   "metadata": {},
   "outputs": [],
   "source": [
    "# API :-\n",
    "# - APIs allow applications to communicate\n",
    "# - APIs are more flexible.\n",
    "# - APIs may or may not require a network for their operability\n",
    "\n",
    "# Web API :-\n",
    "# - Web services allow machines to communicate.\n",
    "# - Web services only support HTTP as a backbone\n",
    "# - Web Services requires a network connection"
   ]
  },
  {
   "cell_type": "code",
   "execution_count": null,
   "id": "3fdd60ef-4eb7-40cb-ac70-a441cd60a2f5",
   "metadata": {},
   "outputs": [],
   "source": []
  },
  {
   "cell_type": "markdown",
   "id": "7ea79998-78b9-42f7-8020-c722b7e30747",
   "metadata": {},
   "source": [
    "#### Q4. Explain REST and SOAP Architecture. Mention shortcomings of SOAP."
   ]
  },
  {
   "cell_type": "code",
   "execution_count": 2,
   "id": "c41d972d-09b7-4ede-9c26-b1a129be13be",
   "metadata": {},
   "outputs": [],
   "source": [
    "# REST is a software architectural style that defines the set of rules to be used for creating web services.\n",
    "\n",
    "# SOAP is a protocol for the exchange of information in a distributed environment.\n",
    "# SOAP messages are encoded as XML documents and can be exchanged using various underlying protocols."
   ]
  },
  {
   "cell_type": "code",
   "execution_count": 3,
   "id": "579e4db0-eae8-41f3-ab0a-723704772cbb",
   "metadata": {},
   "outputs": [],
   "source": [
    "# shortcomings of SOAP :-\n",
    "# SOAP is used only XML format data in web service, whereas JSON and other lightweight formats are not supported by it."
   ]
  },
  {
   "cell_type": "code",
   "execution_count": null,
   "id": "0223cae1-f8d4-4d14-8f05-bebedaa4726b",
   "metadata": {},
   "outputs": [],
   "source": []
  },
  {
   "cell_type": "markdown",
   "id": "0d512fb9-7d4e-494d-aa8b-c2da18a054f0",
   "metadata": {},
   "source": [
    "#### Q5. Differentiate between REST and SOAP."
   ]
  },
  {
   "cell_type": "code",
   "execution_count": 4,
   "id": "f9f07bf4-b68a-4fb9-a7c5-e1356bddf678",
   "metadata": {},
   "outputs": [],
   "source": [
    "# SOAP :-\n",
    "# -The SOAP approach is highly structured and uses XML data format.\n",
    "# -Used in web and non web applications\n",
    "\n",
    "# REST :-\n",
    "# -REST is more flexible and allows applications to exchange data in multiple formats.\n",
    "# -Used in mostly non web applications"
   ]
  },
  {
   "cell_type": "code",
   "execution_count": null,
   "id": "8dd9ed18-127f-450e-9e77-55318d612bb9",
   "metadata": {},
   "outputs": [],
   "source": []
  }
 ],
 "metadata": {
  "kernelspec": {
   "display_name": "Python 3 (ipykernel)",
   "language": "python",
   "name": "python3"
  },
  "language_info": {
   "codemirror_mode": {
    "name": "ipython",
    "version": 3
   },
   "file_extension": ".py",
   "mimetype": "text/x-python",
   "name": "python",
   "nbconvert_exporter": "python",
   "pygments_lexer": "ipython3",
   "version": "3.10.8"
  }
 },
 "nbformat": 4,
 "nbformat_minor": 5
}
